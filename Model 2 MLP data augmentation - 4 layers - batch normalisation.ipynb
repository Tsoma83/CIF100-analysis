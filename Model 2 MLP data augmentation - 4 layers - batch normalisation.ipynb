{
 "cells": [
  {
   "cell_type": "markdown",
   "id": "f9bf04ac",
   "metadata": {},
   "source": [
    "# MLP data augmentation - 4 layers - batch normalisation\n",
    "\n",
    "Multilayer Perceptron (MLP) model using 4 layers, data augmentation and Batch Normalization applied after each linear layer for image classification using the CIFAR-100 dataset.\n"
   ]
  },
  {
   "cell_type": "markdown",
   "id": "a670e64a",
   "metadata": {},
   "source": [
    "# Import library\n",
    "\n",
    "The required libraries are imported, including Torch and TorchVision for model creation and data handling, Matplotlib for visualization, and torch.nn modules for building the neural network."
   ]
  },
  {
   "cell_type": "code",
   "execution_count": 3,
   "id": "ed3615de",
   "metadata": {
    "scrolled": false
   },
   "outputs": [],
   "source": [
    "import torch\n",
    "from torch.utils.data import DataLoader\n",
    "from torch import nn, optim\n",
    "from torchvision import datasets, transforms\n",
    "import matplotlib.pyplot as plt\n",
    "import torch.nn.functional as F\n"
   ]
  },
  {
   "cell_type": "markdown",
   "id": "b356d166",
   "metadata": {},
   "source": [
    "# Data augmentation\n",
    "\n",
    "Hyperparameters such as input size, hidden layer size, output size, learning rate, number of epochs, and batch size are defined.\n",
    "\n",
    "Data transformations are defined using the transforms.Compose class. For training data, transformations include random horizontal flipping and random cropping. For test data, only the transformation to a tensor is applied."
   ]
  },
  {
   "cell_type": "code",
   "execution_count": 4,
   "id": "6c7b1d09",
   "metadata": {},
   "outputs": [],
   "source": [
    "# Hyperparameters\n",
    "input_size = 32 * 32 * 3\n",
    "hidden_size = 256  # Increase the hidden layer size\n",
    "output_size = 100\n",
    "learning_rate = 0.001\n",
    "num_epochs = 40\n",
    "batch_size = 64\n",
    "\n",
    "# Define data augmentation transformations\n",
    "train_transform = transforms.Compose([\n",
    "    transforms.RandomHorizontalFlip(),\n",
    "    transforms.RandomCrop(32, padding=4),\n",
    "    transforms.ToTensor(),\n",
    "])"
   ]
  },
  {
   "cell_type": "markdown",
   "id": "435b2e58",
   "metadata": {},
   "source": [
    "# Data loading\n",
    "\n",
    "The CIFAR-100 training and test datasets are loaded using the defined transformations.\n",
    "Data loaders (DataLoader) are created for both training and testing datasets. They handle batch loading of data and optional shuffling.\n"
   ]
  },
  {
   "cell_type": "code",
   "execution_count": 5,
   "id": "04de5ddd",
   "metadata": {},
   "outputs": [
    {
     "name": "stdout",
     "output_type": "stream",
     "text": [
      "Files already downloaded and verified\n",
      "Files already downloaded and verified\n"
     ]
    }
   ],
   "source": [
    "# Load datasets with data augmentation for training and normal transform for testing\n",
    "train_dataset = datasets.CIFAR100(\n",
    "    root='data',\n",
    "    train=True,\n",
    "    transform=train_transform,\n",
    "    download=True\n",
    ")\n",
    "test_dataset = datasets.CIFAR100(\n",
    "    root='data',\n",
    "    train=False,\n",
    "    transform=transforms.ToTensor(),\n",
    "    download=True\n",
    ")\n",
    "\n",
    "train_loader = DataLoader(train_dataset, batch_size=batch_size, shuffle=True)\n",
    "test_loader = DataLoader(test_dataset, batch_size=batch_size, shuffle=False)\n",
    "\n",
    "\n"
   ]
  },
  {
   "cell_type": "markdown",
   "id": "d3a4b5ff",
   "metadata": {},
   "source": [
    "# DeepMLP definition\n",
    "\n",
    "A deep MLP model is defined using the nn.Module class. The model consists of multiple linear layers with Batch Normalization applied after each linear layer. This promotes stable training by normalizing the activations within each layer.\n",
    "\n",
    "The forward method of the model is defined. It takes the input tensor, flattens it, applies the linear layers with Batch Normalization, and returns the output logits."
   ]
  },
  {
   "cell_type": "code",
   "execution_count": 6,
   "id": "c4c8e56b",
   "metadata": {},
   "outputs": [],
   "source": [
    "# MLP definition with Batch Normalization added after each linear layer\n",
    "class DeepMLP(nn.Module):\n",
    "    def __init__(self, input_size, hidden_size, output_size):\n",
    "        super(DeepMLP, self).__init__()\n",
    "        self.fc1 = nn.Linear(input_size, hidden_size)\n",
    "        self.bn1 = nn.BatchNorm1d(hidden_size)  # Batch Normalization after the first linear layer\n",
    "        self.fc2 = nn.Linear(hidden_size, hidden_size)\n",
    "        self.bn2 = nn.BatchNorm1d(hidden_size)  # Batch Normalization after the second linear layer\n",
    "        self.fc3 = nn.Linear(hidden_size, hidden_size)\n",
    "        self.bn3 = nn.BatchNorm1d(hidden_size)  # Batch Normalization after the third linear layer\n",
    "        self.fc4 = nn.Linear(hidden_size, output_size)\n",
    "\n",
    "    def forward(self, x):\n",
    "        x = x.view(x.size(0), -1)\n",
    "        x = F.relu(self.bn1(self.fc1(x)))\n",
    "        x = F.relu(self.bn2(self.fc2(x)))\n",
    "        x = F.relu(self.bn3(self.fc3(x)))\n",
    "        x = self.fc4(x)\n",
    "        return x\n",
    "\n",
    "# Create the deep model\n",
    "deep_model = DeepMLP(input_size, hidden_size, output_size)\n",
    "\n",
    "# Loss function and optimizer\n",
    "criterion = nn.CrossEntropyLoss()\n",
    "optimizer = optim.Adam(deep_model.parameters(), lr=learning_rate)\n"
   ]
  },
  {
   "cell_type": "markdown",
   "id": "3ba925a1",
   "metadata": {},
   "source": [
    "# Training and evaluation\n",
    "\n",
    "The train function takes the model, data loader, loss function, and optimizer as input. It performs a forward and backward pass, calculates the loss, and updates the model's weights. It also calculates the training accuracy.\n",
    "\n",
    "The evaluate function evaluates the model's performance on the test data. It calculates the loss, accuracy, and average loss for the entire evaluation set.\n",
    "\n",
    "The model is trained using a loop that iterates through the specified number of epochs. In each epoch, the model is trained using the train function, and then its performance is evaluated using the evaluate function on the test data."
   ]
  },
  {
   "cell_type": "code",
   "execution_count": 7,
   "id": "84983361",
   "metadata": {},
   "outputs": [
    {
     "name": "stdout",
     "output_type": "stream",
     "text": [
      "Epoch [1/40], Train Loss: 3.8894, Train Accuracy: 10.53%, Test Loss: 3.6194, Test Accuracy: 14.01%\n",
      "Epoch [2/40], Train Loss: 3.5634, Train Accuracy: 15.42%, Test Loss: 3.4849, Test Accuracy: 16.96%\n",
      "Epoch [3/40], Train Loss: 3.4289, Train Accuracy: 17.67%, Test Loss: 3.3408, Test Accuracy: 19.53%\n",
      "Epoch [4/40], Train Loss: 3.3362, Train Accuracy: 19.47%, Test Loss: 3.2616, Test Accuracy: 20.77%\n",
      "Epoch [5/40], Train Loss: 3.2621, Train Accuracy: 20.81%, Test Loss: 3.3570, Test Accuracy: 20.06%\n",
      "Epoch [6/40], Train Loss: 3.2031, Train Accuracy: 21.85%, Test Loss: 3.1867, Test Accuracy: 22.38%\n",
      "Epoch [7/40], Train Loss: 3.1485, Train Accuracy: 22.85%, Test Loss: 3.1389, Test Accuracy: 23.43%\n",
      "Epoch [8/40], Train Loss: 3.1016, Train Accuracy: 23.70%, Test Loss: 3.1032, Test Accuracy: 24.46%\n",
      "Epoch [9/40], Train Loss: 3.0634, Train Accuracy: 24.31%, Test Loss: 3.0674, Test Accuracy: 24.71%\n",
      "Epoch [10/40], Train Loss: 3.0279, Train Accuracy: 25.17%, Test Loss: 3.0689, Test Accuracy: 24.97%\n",
      "Epoch [11/40], Train Loss: 2.9881, Train Accuracy: 25.92%, Test Loss: 2.9999, Test Accuracy: 26.28%\n",
      "Epoch [12/40], Train Loss: 2.9585, Train Accuracy: 26.17%, Test Loss: 3.0046, Test Accuracy: 26.32%\n",
      "Epoch [13/40], Train Loss: 2.9311, Train Accuracy: 26.89%, Test Loss: 2.9731, Test Accuracy: 27.40%\n",
      "Epoch [14/40], Train Loss: 2.9052, Train Accuracy: 27.48%, Test Loss: 2.9851, Test Accuracy: 26.48%\n",
      "Epoch [15/40], Train Loss: 2.8739, Train Accuracy: 28.02%, Test Loss: 2.9296, Test Accuracy: 28.48%\n",
      "Epoch [16/40], Train Loss: 2.8529, Train Accuracy: 28.54%, Test Loss: 2.9482, Test Accuracy: 27.64%\n",
      "Epoch [17/40], Train Loss: 2.8237, Train Accuracy: 28.89%, Test Loss: 2.9268, Test Accuracy: 28.45%\n",
      "Epoch [18/40], Train Loss: 2.8060, Train Accuracy: 29.27%, Test Loss: 2.8979, Test Accuracy: 28.75%\n",
      "Epoch [19/40], Train Loss: 2.7775, Train Accuracy: 30.00%, Test Loss: 2.9432, Test Accuracy: 28.36%\n",
      "Epoch [20/40], Train Loss: 2.7649, Train Accuracy: 30.17%, Test Loss: 2.9473, Test Accuracy: 28.20%\n",
      "Epoch [21/40], Train Loss: 2.7440, Train Accuracy: 30.52%, Test Loss: 2.8790, Test Accuracy: 29.35%\n",
      "Epoch [22/40], Train Loss: 2.7274, Train Accuracy: 31.01%, Test Loss: 2.9345, Test Accuracy: 28.50%\n",
      "Epoch [23/40], Train Loss: 2.7081, Train Accuracy: 31.03%, Test Loss: 2.9005, Test Accuracy: 29.22%\n",
      "Epoch [24/40], Train Loss: 2.6918, Train Accuracy: 31.78%, Test Loss: 2.8901, Test Accuracy: 29.72%\n",
      "Epoch [25/40], Train Loss: 2.6806, Train Accuracy: 31.92%, Test Loss: 2.9017, Test Accuracy: 29.71%\n",
      "Epoch [26/40], Train Loss: 2.6572, Train Accuracy: 32.40%, Test Loss: 2.8942, Test Accuracy: 29.33%\n",
      "Epoch [27/40], Train Loss: 2.6387, Train Accuracy: 32.52%, Test Loss: 2.8813, Test Accuracy: 30.16%\n",
      "Epoch [28/40], Train Loss: 2.6299, Train Accuracy: 32.99%, Test Loss: 2.8990, Test Accuracy: 30.07%\n",
      "Epoch [29/40], Train Loss: 2.6130, Train Accuracy: 33.11%, Test Loss: 2.8877, Test Accuracy: 30.03%\n",
      "Epoch [30/40], Train Loss: 2.6062, Train Accuracy: 33.46%, Test Loss: 2.8779, Test Accuracy: 30.30%\n",
      "Epoch [31/40], Train Loss: 2.5865, Train Accuracy: 33.53%, Test Loss: 2.8955, Test Accuracy: 30.03%\n",
      "Epoch [32/40], Train Loss: 2.5689, Train Accuracy: 33.86%, Test Loss: 2.8944, Test Accuracy: 29.86%\n",
      "Epoch [33/40], Train Loss: 2.5661, Train Accuracy: 34.28%, Test Loss: 2.8505, Test Accuracy: 30.55%\n",
      "Epoch [34/40], Train Loss: 2.5428, Train Accuracy: 34.57%, Test Loss: 2.8669, Test Accuracy: 30.60%\n",
      "Epoch [35/40], Train Loss: 2.5336, Train Accuracy: 34.57%, Test Loss: 2.8479, Test Accuracy: 30.88%\n",
      "Epoch [36/40], Train Loss: 2.5269, Train Accuracy: 35.01%, Test Loss: 2.8631, Test Accuracy: 31.31%\n",
      "Epoch [37/40], Train Loss: 2.5133, Train Accuracy: 35.14%, Test Loss: 2.8881, Test Accuracy: 30.49%\n",
      "Epoch [38/40], Train Loss: 2.4961, Train Accuracy: 35.43%, Test Loss: 2.8682, Test Accuracy: 30.92%\n",
      "Epoch [39/40], Train Loss: 2.4933, Train Accuracy: 35.47%, Test Loss: 2.8490, Test Accuracy: 31.05%\n",
      "Epoch [40/40], Train Loss: 2.4849, Train Accuracy: 35.43%, Test Loss: 2.8744, Test Accuracy: 30.94%\n"
     ]
    }
   ],
   "source": [
    "# Training function\n",
    "def train(model, dataloader, criterion, optimizer):\n",
    "    model.train()\n",
    "    total_loss = 0.0\n",
    "    correct = 0\n",
    "    total = 0\n",
    "\n",
    "    for inputs, labels in dataloader:\n",
    "        optimizer.zero_grad()\n",
    "        outputs = model(inputs)\n",
    "        loss = criterion(outputs, labels)\n",
    "        loss.backward()\n",
    "        optimizer.step()\n",
    "\n",
    "        total_loss += loss.item()\n",
    "        _, predicted = outputs.max(1)\n",
    "        total += labels.size(0)\n",
    "        correct += predicted.eq(labels).sum().item()\n",
    "\n",
    "    accuracy = 100.0 * correct / total\n",
    "    avg_loss = total_loss / len(dataloader)\n",
    "    return avg_loss, accuracy\n",
    "\n",
    "# Evaluation function\n",
    "def evaluate(model, dataloader, criterion):\n",
    "    model.eval()\n",
    "    total_loss = 0.0\n",
    "    correct = 0\n",
    "    total = 0\n",
    "\n",
    "    with torch.no_grad():\n",
    "        for inputs, labels in dataloader:\n",
    "            outputs = model(inputs)\n",
    "            loss = criterion(outputs, labels)\n",
    "\n",
    "            total_loss += loss.item()\n",
    "            _, predicted = outputs.max(1)\n",
    "            total += labels.size(0)\n",
    "            correct += predicted.eq(labels).sum().item()\n",
    "\n",
    "    accuracy = 100.0 * correct / total\n",
    "    avg_loss = total_loss / len(dataloader)\n",
    "    return avg_loss, accuracy\n",
    "\n",
    "# Training of the deep model\n",
    "train_losses = []\n",
    "train_accuracies = []\n",
    "test_losses = []\n",
    "test_accuracies = []\n",
    "\n",
    "for epoch in range(num_epochs):\n",
    "    train_loss, train_accuracy = train(deep_model, train_loader, criterion, optimizer)\n",
    "    test_loss, test_accuracy = evaluate(deep_model, test_loader, criterion)\n",
    "\n",
    "    train_losses.append(train_loss)\n",
    "    train_accuracies.append(train_accuracy)\n",
    "    test_losses.append(test_loss)\n",
    "    test_accuracies.append(test_accuracy)\n",
    "\n",
    "    print(f'Epoch [{epoch+1}/{num_epochs}], Train Loss: {train_loss:.4f}, Train Accuracy: {train_accuracy:.2f}%, Test Loss: {test_loss:.4f}, Test Accuracy: {test_accuracy:.2f}%')\n",
    "\n"
   ]
  },
  {
   "cell_type": "markdown",
   "id": "6009cd6e",
   "metadata": {},
   "source": [
    "# Plotting performance curves\n",
    "\n",
    "After training, the code uses Matplotlib to visualize the training and testing losses and accuracies over epochs."
   ]
  },
  {
   "cell_type": "code",
   "execution_count": 8,
   "id": "0847f3f3",
   "metadata": {},
   "outputs": [
    {
     "data": {
      "image/png": "[encoded data removed]",
      "text/plain": [
       "<Figure size 720x360 with 1 Axes>"
      ]
     },
     "metadata": {
      "needs_background": "light"
     },
     "output_type": "display_data"
    },
    {
     "data": {
      "image/png": "[encoded data removed]",
      "text/plain": [
       "<Figure size 720x360 with 1 Axes>"
      ]
     },
     "metadata": {
      "needs_background": "light"
     },
     "output_type": "display_data"
    }
   ],
   "source": [
    "# Plotting performance curves\n",
    "plt.figure(figsize=(10, 5))\n",
    "plt.plot(train_losses, label='Train Loss')\n",
    "plt.plot(test_losses, label='Test Loss')\n",
    "plt.xlabel('Epoch')\n",
    "plt.ylabel('Loss')\n",
    "plt.legend()\n",
    "plt.title('Training and Testing Loss')\n",
    "plt.show()\n",
    "\n",
    "plt.figure(figsize=(10, 5))\n",
    "plt.plot(train_accuracies, label='Train Accuracy')\n",
    "plt.plot(test_accuracies, label='Test Accuracy')\n",
    "plt.xlabel('Epoch')\n",
    "plt.ylabel('Accuracy (%)')\n",
    "plt.legend()\n",
    "plt.title('Training and Testing Accuracy')\n",
    "plt.show()\n",
    "\n",
    "\n",
    "\n"
   ]
  },
  {
   "cell_type": "code",
   "execution_count": null,
   "id": "3da38baf",
   "metadata": {},
   "outputs": [],
   "source": []
  },
  {
   "cell_type": "markdown",
   "id": "dfd70a25",
   "metadata": {},
   "source": [
    "# More explanations:\n",
    "\n",
    "train and evaluate function, are responsible for training and evaluating the deep MLP model, respectively. They both compute loss, accuracy, and update model parameters as necessary."
   ]
  },
  {
   "cell_type": "markdown",
   "id": "b95c1ed1",
   "metadata": {},
   "source": [
    "# train Function\n",
    "\n",
    "This function performs one epoch of training on the given data loader.\n",
    "\n",
    "The function does the following:\n",
    "Sets the model in training mode using model.train().\n",
    "Initializes counters for total loss, correct predictions, and total samples.\n",
    "\n",
    "Iterates through the data loader batches:\n",
    "- Clears gradients using optimizer.zero_grad().\n",
    "- Performs a forward pass through the model to obtain predictions.\n",
    "- Calculates the loss using the provided loss function.\n",
    "- Backpropagates the loss to compute gradients for model parameters.\n",
    "- Updates model parameters using the optimizer.\n",
    "- Records the loss and calculates the number of correct predictions.\n",
    "- Calculates the accuracy and average loss for the epoch.\n",
    "- Returns the average loss and accuracy."
   ]
  },
  {
   "cell_type": "markdown",
   "id": "9e483a11",
   "metadata": {},
   "source": [
    "# evaluate Function\n",
    "\n",
    "This function evaluates the model on the given data loader for testing.\n",
    "model\n",
    "\n",
    "The function does the following:\n",
    "Sets the model in evaluation mode using model.eval().\n",
    "Initializes counters for total loss, correct predictions, and total samples.\n",
    "Uses the torch.no_grad() context to disable gradient calculation during evaluation.\n",
    "\n",
    "Iterates through the data loader batches:\n",
    "- Performs a forward pass through the model to obtain predictions.\n",
    "- Calculates the loss using the provided loss function.\n",
    "- Records the loss and calculates the number of correct predictions.\n",
    "- Calculates the accuracy and average loss for the evaluation.\n",
    "- Returns the average loss and accuracy."
   ]
  },
  {
   "cell_type": "markdown",
   "id": "0ca26c8e",
   "metadata": {},
   "source": [
    "# Result:\n",
    "\n",
    "This model performed much better than the simple perceptron with 35% (train) vs 30% (test) witch confirm that by adding more layers, data augmentation and batch normalization imroved the model.\n",
    "Besides the loss curve decreased with 2,5% (train) vs 2,8% (test). However, this model did not get convergence and could be probably improved using CNN or more complex CNN."
   ]
  },
  {
   "cell_type": "code",
   "execution_count": null,
   "id": "c1573617",
   "metadata": {},
   "outputs": [],
   "source": []
  }
 ],
 "metadata": {
  "kernelspec": {
   "display_name": "Python 3.9 (pytorch)",
   "language": "python",
   "name": "pytorch"
  },
  "language_info": {
   "codemirror_mode": {
    "name": "ipython",
    "version": 3
   },
   "file_extension": ".py",
   "mimetype": "text/x-python",
   "name": "python",
   "nbconvert_exporter": "python",
   "pygments_lexer": "ipython3",
   "version": "3.9.7"
  }
 },
 "nbformat": 4,
 "nbformat_minor": 5
}
