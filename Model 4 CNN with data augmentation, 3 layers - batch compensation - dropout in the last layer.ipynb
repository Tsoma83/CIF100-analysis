{
 "cells": [
  {
   "cell_type": "markdown",
   "id": "ec902006",
   "metadata": {},
   "source": [
    "# CNN with data augmentation, 3 layers - batch compensation - dropout in the last layer - p = 0.5 epoch 20\n",
    "\n"
   ]
  },
  {
   "cell_type": "markdown",
   "id": "14366e99",
   "metadata": {},
   "source": [
    "# Import libraries\n",
    "\n",
    "import libraries including:\n",
    "- modules for data loading (DataLoader)\n",
    "- neural networks (nn)\n",
    "- optimization (optim)\n",
    "- datasets (datasets)\n",
    "- data transformations (transforms)\n",
    "- visualization (plt)\n",
    "- besides, functional module of PyTorch (F) for certain functions like activation functions."
   ]
  },
  {
   "cell_type": "code",
   "execution_count": 2,
   "id": "bbfc8981",
   "metadata": {},
   "outputs": [],
   "source": [
    "import torch\n",
    "from torch.utils.data import DataLoader\n",
    "from torch import nn, optim\n",
    "from torchvision import datasets, transforms\n",
    "import matplotlib.pyplot as plt\n",
    "import torch.nn.functional as F"
   ]
  },
  {
   "cell_type": "markdown",
   "id": "ecf53349",
   "metadata": {},
   "source": [
    "# Data tranformation\n",
    "\n",
    "The code defines two sets of data transformations:\n",
    "    \n",
    "- train_transform: For training data, it includes random resized cropping, random horizontal flipping, transforming to tensors, and normalization.\n",
    "- test_transform: For test data, it includes transforming to tensors and normalization."
   ]
  },
  {
   "cell_type": "code",
   "execution_count": 3,
   "id": "71587cdb",
   "metadata": {},
   "outputs": [],
   "source": [
    "# Define data augmentation transformations\n",
    "train_transform = transforms.Compose([\n",
    "    transforms.RandomResizedCrop(32, scale=(0.8, 1.0)),\n",
    "    transforms.RandomHorizontalFlip(),\n",
    "    transforms.ToTensor(),\n",
    "    transforms.Normalize((0.5, 0.5, 0.5), (0.5, 0.5, 0.5))\n",
    "])\n",
    "\n",
    "test_transform = transforms.Compose([\n",
    "    transforms.ToTensor(),\n",
    "    transforms.Normalize((0.5, 0.5, 0.5), (0.5, 0.5, 0.5))\n",
    "])"
   ]
  },
  {
   "cell_type": "markdown",
   "id": "8fde46c2",
   "metadata": {},
   "source": [
    "# Data loading\n",
    "\n",
    "The code loads the CIFAR100 dataset using the defined data transformations.\n",
    "For training, it uses the train_transform with data augmentation, and for testing, it uses the test_transform."
   ]
  },
  {
   "cell_type": "code",
   "execution_count": 4,
   "id": "05193719",
   "metadata": {},
   "outputs": [
    {
     "name": "stdout",
     "output_type": "stream",
     "text": [
      "Files already downloaded and verified\n",
      "Files already downloaded and verified\n"
     ]
    }
   ],
   "source": [
    "# Load the CIFAR100 dataset with data augmentation for training\n",
    "train_dataset = datasets.CIFAR100(\n",
    "    root='data',\n",
    "    train=True,\n",
    "    transform=train_transform,\n",
    "    download=True\n",
    ")\n",
    "\n",
    "# Load the CIFAR100 dataset for testing without data augmentation\n",
    "test_dataset = datasets.CIFAR100(\n",
    "    root='data',\n",
    "    train=False,\n",
    "    transform=test_transform,\n",
    "    download=True\n",
    ")"
   ]
  },
  {
   "cell_type": "markdown",
   "id": "692ac96e",
   "metadata": {},
   "source": [
    "# Model and Training Parameters:\n",
    "\n",
    "Hyperparameters are set, including batch_size, learning_rate, and num_epochs.\n",
    "input_size is inferred as the flattened size of the image.\n",
    "\n",
    "The architecture for the CNN model is defined using a class named CNN.\n",
    "\n",
    "The model consists of convolutional layers, batch normalization layers, ReLU activation functions, max-pooling layers, and fully connected layers.\n",
    "\n",
    "The last fully connected layer has dropout and uses the softmax function for classification.\n",
    "\n",
    "The defined CNN model is instantiated as model.\n",
    "\n",
    "The cross-entropy loss function (nn.CrossEntropyLoss()) is used for the classification task.\n",
    "\n",
    "The Adam optimizer is used to optimize the model parameters.\n",
    "\n",
    "train_loader and test_loader are defined using DataLoader with the specified batch sizes.\n",
    "\n",
    "Shuffle is set to True for the training loader to shuffle the data during training."
   ]
  },
  {
   "cell_type": "code",
   "execution_count": 5,
   "id": "6c38031b",
   "metadata": {},
   "outputs": [],
   "source": [
    "# Set the model and training parameters\n",
    "batch_size = 64\n",
    "learning_rate = 0.001\n",
    "num_epochs = 20\n",
    "\n",
    "# Define the CNN model with Batch Normalization and Dropout on the last layer\n",
    "class CNN(nn.Module):\n",
    "    def __init__(self):\n",
    "        super(CNN, self).__init__()\n",
    "        self.conv1 = nn.Conv2d(3, 64, kernel_size=3, padding=1)\n",
    "        self.bn1 = nn.BatchNorm2d(64)\n",
    "        self.relu1 = nn.ReLU()\n",
    "        self.conv2 = nn.Conv2d(64, 128, kernel_size=3, padding=1)\n",
    "        self.bn2 = nn.BatchNorm2d(128)\n",
    "        self.relu2 = nn.ReLU()\n",
    "        self.pool = nn.MaxPool2d(kernel_size=2, stride=2)\n",
    "        self.fc1 = nn.Linear(8 * 8 * 128, 512)\n",
    "        self.bn3 = nn.BatchNorm1d(512)\n",
    "        self.relu3 = nn.ReLU()\n",
    "        self.fc2 = nn.Linear(512, 100)\n",
    "        self.dropout3 = nn.Dropout(p=0.3)  # Dropout on the last layer\n",
    "\n",
    "    def forward(self, x):\n",
    "        x = self.conv1(x)\n",
    "        x = self.bn1(x)\n",
    "        x = self.relu1(x)\n",
    "        x = self.pool(x)\n",
    "        x = self.conv2(x)\n",
    "        x = self.bn2(x)\n",
    "        x = self.relu2(x)\n",
    "        x = self.pool(x)\n",
    "        x = x.view(x.size(0), -1)\n",
    "        x = self.fc1(x)\n",
    "        x = self.bn3(x)\n",
    "        x = self.relu3(x)\n",
    "        x = self.fc2(x)\n",
    "        x = self.dropout3(x)  # Apply dropout on the last layer\n",
    "        x = F.log_softmax(x, dim=1)\n",
    "        return x\n",
    "\n",
    "# Instantiate the CNN model with Batch Normalization and Dropout\n",
    "model = CNN()\n",
    "\n",
    "# Define the loss function and optimizer\n",
    "criterion = nn.CrossEntropyLoss()\n",
    "optimizer = optim.Adam(model.parameters(), lr=learning_rate)\n",
    "\n",
    "# Load the data using DataLoaders\n",
    "train_loader = DataLoader(train_dataset, batch_size=batch_size, shuffle=True)\n",
    "test_loader = DataLoader(test_dataset, batch_size=batch_size, shuffle=False)"
   ]
  },
  {
   "cell_type": "markdown",
   "id": "24bb8a27",
   "metadata": {},
   "source": [
    "# Evaluation Function (evaluate):\n",
    "\n",
    "This function evaluates the model's performance on the given data loader.\n",
    "It sets the model to evaluation mode using model.eval().\n",
    "For each batch, it computes the loss, accuracy, and average loss, without performing backpropagation\n",
    "\n",
    "Training Function (train):\n",
    "This function trains the model using the provided data loader and optimization parameters.\n",
    "\n",
    "It sets the model to training mode using model.train().\n",
    "For each batch, it performs a forward pass, computes the loss, performs backpropagation, and updates the model parameters using the optimizer.\n",
    "\n",
    "Training Loop:\n",
    "The code iterates over the specified number of epochs.\n",
    "For each epoch, it trains the model using the train function and evaluates it using the evaluate function.\n",
    "\n",
    "It records training and testing loss as well as training and testing accuracy."
   ]
  },
  {
   "cell_type": "code",
   "execution_count": 6,
   "id": "552152c1",
   "metadata": {},
   "outputs": [
    {
     "name": "stdout",
     "output_type": "stream",
     "text": [
      "Epoch [1/20], Train Loss: 3.63, Train Accuracy: 19.06%, Test Loss: 2.78, Test Accuracy: 32.55%\n",
      "Epoch [2/20], Train Loss: 3.16, Train Accuracy: 28.52%, Test Loss: 2.54, Test Accuracy: 38.19%\n",
      "Epoch [3/20], Train Loss: 2.97, Train Accuracy: 32.68%, Test Loss: 2.39, Test Accuracy: 40.55%\n",
      "Epoch [4/20], Train Loss: 2.85, Train Accuracy: 35.31%, Test Loss: 2.23, Test Accuracy: 43.92%\n",
      "Epoch [5/20], Train Loss: 2.73, Train Accuracy: 37.61%, Test Loss: 2.17, Test Accuracy: 45.15%\n",
      "Epoch [6/20], Train Loss: 2.63, Train Accuracy: 40.18%, Test Loss: 2.11, Test Accuracy: 47.23%\n",
      "Epoch [7/20], Train Loss: 2.54, Train Accuracy: 41.85%, Test Loss: 2.03, Test Accuracy: 48.74%\n",
      "Epoch [8/20], Train Loss: 2.46, Train Accuracy: 43.77%, Test Loss: 2.03, Test Accuracy: 48.05%\n",
      "Epoch [9/20], Train Loss: 2.39, Train Accuracy: 45.22%, Test Loss: 1.94, Test Accuracy: 49.95%\n",
      "Epoch [10/20], Train Loss: 2.31, Train Accuracy: 47.14%, Test Loss: 1.97, Test Accuracy: 49.32%\n",
      "Epoch [11/20], Train Loss: 2.25, Train Accuracy: 48.39%, Test Loss: 1.92, Test Accuracy: 50.36%\n",
      "Epoch [12/20], Train Loss: 2.19, Train Accuracy: 49.54%, Test Loss: 1.87, Test Accuracy: 51.67%\n",
      "Epoch [13/20], Train Loss: 2.12, Train Accuracy: 51.23%, Test Loss: 1.87, Test Accuracy: 51.61%\n",
      "Epoch [14/20], Train Loss: 2.08, Train Accuracy: 52.06%, Test Loss: 1.93, Test Accuracy: 50.94%\n",
      "Epoch [15/20], Train Loss: 2.03, Train Accuracy: 53.04%, Test Loss: 1.92, Test Accuracy: 51.79%\n",
      "Epoch [16/20], Train Loss: 1.99, Train Accuracy: 53.97%, Test Loss: 1.91, Test Accuracy: 51.26%\n",
      "Epoch [17/20], Train Loss: 1.97, Train Accuracy: 54.30%, Test Loss: 1.93, Test Accuracy: 51.59%\n",
      "Epoch [18/20], Train Loss: 1.90, Train Accuracy: 55.87%, Test Loss: 1.91, Test Accuracy: 52.19%\n",
      "Epoch [19/20], Train Loss: 1.87, Train Accuracy: 56.31%, Test Loss: 1.91, Test Accuracy: 52.28%\n",
      "Epoch [20/20], Train Loss: 1.83, Train Accuracy: 57.24%, Test Loss: 1.91, Test Accuracy: 52.14%\n"
     ]
    }
   ],
   "source": [
    "# Define the evaluation function\n",
    "def evaluate(model, dataloader, criterion):\n",
    "    model.eval()\n",
    "    total_loss = 0.0\n",
    "    correct = 0\n",
    "    total = 0\n",
    "\n",
    "    with torch.no_grad():\n",
    "        for inputs, labels in dataloader:\n",
    "            outputs = model(inputs)\n",
    "            loss = criterion(outputs, labels)\n",
    "\n",
    "            total_loss += loss.item()\n",
    "            _, predicted = outputs.max(1)\n",
    "            total += labels.size(0)\n",
    "            correct += predicted.eq(labels).sum().item()\n",
    "\n",
    "    accuracy = 100.0 * correct / total\n",
    "    avg_loss = total_loss / len(dataloader)\n",
    "    return avg_loss, accuracy\n",
    "\n",
    "# Define the training function\n",
    "def train(model, dataloader, criterion, optimizer):\n",
    "    model.train()\n",
    "    total_loss = 0.0\n",
    "    correct = 0\n",
    "    total = 0\n",
    "\n",
    "    for inputs, labels in dataloader:\n",
    "        optimizer.zero_grad()\n",
    "        outputs = model(inputs)\n",
    "        loss = criterion(outputs, labels)\n",
    "        loss.backward()\n",
    "        optimizer.step()\n",
    "\n",
    "        total_loss += loss.item()\n",
    "        _, predicted = outputs.max(1)\n",
    "        total += labels.size(0)\n",
    "        correct += predicted.eq(labels).sum().item()\n",
    "\n",
    "    accuracy = 100.0 * correct / total\n",
    "    avg_loss = total_loss / len(dataloader)\n",
    "    return avg_loss, accuracy\n",
    "\n",
    "# Train the model\n",
    "train_losses = []\n",
    "train_accuracies = []\n",
    "test_losses = []\n",
    "test_accuracies = []\n",
    "\n",
    "for epoch in range(num_epochs):\n",
    "    train_loss, train_accuracy = train(model, train_loader, criterion, optimizer)\n",
    "    test_loss, test_accuracy = evaluate(model, test_loader, criterion)\n",
    "\n",
    "    train_losses.append(train_loss)\n",
    "    train_accuracies.append(train_accuracy)\n",
    "    test_losses.append(test_loss)\n",
    "    test_accuracies.append(test_accuracy)\n",
    "\n",
    "    print(f'Epoch [{epoch+1}/{num_epochs}], Train Loss: {train_loss:.2f}, Train Accuracy: {train_accuracy:.2f}%, Test Loss: {test_loss:.2f}, Test Accuracy: {test_accuracy:.2f}%')\n",
    "\n"
   ]
  },
  {
   "cell_type": "markdown",
   "id": "6f10c133",
   "metadata": {},
   "source": [
    "# Performance Plotting:\n",
    "\n",
    "After training is complete, the code generates two plots.\n",
    "The first plot displays the training and testing loss over the epochs.\n",
    "The second plot displays the training and testing accuracy over the epochs.\n",
    "\n",
    "The code uses plt to visualize the performance curves, including losses and accuracies."
   ]
  },
  {
   "cell_type": "code",
   "execution_count": 7,
   "id": "08e9ac00",
   "metadata": {},
   "outputs": [
    {
     "data": {
      "image/png": "[encoded data removed]",
      "text/plain": [
       "<Figure size 720x360 with 1 Axes>"
      ]
     },
     "metadata": {
      "needs_background": "light"
     },
     "output_type": "display_data"
    },
    {
     "data": {
      "image/png": "[encoded data removed]",
      "text/plain": [
       "<Figure size 720x360 with 1 Axes>"
      ]
     },
     "metadata": {
      "needs_background": "light"
     },
     "output_type": "display_data"
    }
   ],
   "source": [
    "\n",
    "\n",
    "\n",
    "# Plotting performance curves\n",
    "plt.figure(figsize=(10, 5))\n",
    "plt.plot(train_losses, label='Train Loss')\n",
    "plt.plot(test_losses, label='Test Loss')\n",
    "plt.xlabel('Epoch')\n",
    "plt.ylabel('Loss')\n",
    "plt.legend()\n",
    "plt.title('Training and Testing Loss')\n",
    "plt.show()\n",
    "\n",
    "plt.figure(figsize=(10, 5))\n",
    "plt.plot(train_accuracies, label='Train Accuracy')\n",
    "plt.plot(test_accuracies, label='Test Accuracy')\n",
    "plt.xlabel('Epoch')\n",
    "plt.ylabel('Accuracy (%)')\n",
    "plt.legend()\n",
    "plt.title('Training and Testing Accuracy')\n",
    "plt.show()\n",
    "\n",
    "\n"
   ]
  },
  {
   "cell_type": "markdown",
   "id": "13222f8c",
   "metadata": {},
   "source": [
    "# Result:\n",
    "\n",
    "Comparing with the simple CNN, by introducing more layer, data augmentation, and drop out in the last layer, we corrected greatly the overfitting and increased the global result (57% train vs 52% test)\n",
    "\n",
    "The last fully connected layer in a CNN often serves as a classifier, mapping the learned features from the previous layers to class probabilities. Dropout helps to prevent overfitting by reducing the risk of the model memorizing the training data and fitting noise. By randomly dropping out neurons, the model becomes less sensitive to specific training samples, leading to better generalization to unseen data. Thus, it helps to prevent co-adaptation and enhances robutness of the model.\n",
    "\n",
    "The loss curve decreased to get convergence around 2% for both train and test. This value should represent the minimum loss achievable by the model given the data and architecture. \n",
    "The little improvement in the test loss plateau, might indicate that the model has reached its capacity or that the learning rate needs adjustment. "
   ]
  },
  {
   "cell_type": "code",
   "execution_count": null,
   "id": "ff130977",
   "metadata": {},
   "outputs": [],
   "source": []
  },
  {
   "cell_type": "code",
   "execution_count": null,
   "id": "360ac61f",
   "metadata": {},
   "outputs": [],
   "source": []
  },
  {
   "cell_type": "code",
   "execution_count": null,
   "id": "fe77a9a7",
   "metadata": {},
   "outputs": [],
   "source": []
  }
 ],
 "metadata": {
  "kernelspec": {
   "display_name": "Python 3.9 (pytorch)",
   "language": "python",
   "name": "pytorch"
  },
  "language_info": {
   "codemirror_mode": {
    "name": "ipython",
    "version": 3
   },
   "file_extension": ".py",
   "mimetype": "text/x-python",
   "name": "python",
   "nbconvert_exporter": "python",
   "pygments_lexer": "ipython3",
   "version": "3.9.7"
  }
 },
 "nbformat": 4,
 "nbformat_minor": 5
}
