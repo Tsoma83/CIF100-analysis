{
 "cells": [
  {
   "cell_type": "markdown",
   "id": "cc1c4e0e",
   "metadata": {},
   "source": [
    "# Simple CNN\n",
    "\n",
    "simple CNN without specific update"
   ]
  },
  {
   "cell_type": "markdown",
   "id": "8ed9386a",
   "metadata": {},
   "source": [
    "# Import library"
   ]
  },
  {
   "cell_type": "code",
   "execution_count": null,
   "id": "04997084",
   "metadata": {},
   "outputs": [],
   "source": [
    "import torch\n",
    "from torch.utils.data import DataLoader\n",
    "from torch import nn, optim\n",
    "from torchvision import datasets, transforms\n",
    "import matplotlib.pyplot as plt\n",
    "import torch.nn.functional as F"
   ]
  },
  {
   "cell_type": "markdown",
   "id": "8ade8a02",
   "metadata": {},
   "source": [
    "# Define transformations\n",
    "Here, transformation pipelines are defined for both training and testing data. \n",
    "The \"transforms.Compose\" function allows you to chain together multiple transformations. \n",
    "\n",
    "In this case, ToTensor() converts images to PyTorch tensors, and Normalize() standardizes pixel values to have a mean of 0.5 and a standard deviation of 0.5."
   ]
  },
  {
   "cell_type": "code",
   "execution_count": null,
   "id": "38af77bf",
   "metadata": {},
   "outputs": [],
   "source": [
    "# Define transformations for training and testing\n",
    "train_transform = transforms.Compose([\n",
    "    transforms.ToTensor(),\n",
    "    transforms.Normalize((0.5, 0.5, 0.5), (0.5, 0.5, 0.5))\n",
    "])\n",
    "\n",
    "test_transform = transforms.Compose([\n",
    "    transforms.ToTensor(),\n",
    "    transforms.Normalize((0.5, 0.5, 0.5), (0.5, 0.5, 0.5))\n",
    "])"
   ]
  },
  {
   "cell_type": "markdown",
   "id": "ae12cc37",
   "metadata": {},
   "source": [
    "# Data loading\n",
    "\n",
    "The CIFAR100 dataset is loaded using the datasets.CIFAR100 class. \n",
    "\n",
    "The train_dataset is loaded with the training split, while the test_dataset is loaded with the testing split. \n",
    "\n",
    "The transform argument specifies the transformation pipeline to apply to the images, and download=True ensures that the dataset is downloaded if not present."
   ]
  },
  {
   "cell_type": "code",
   "execution_count": null,
   "id": "574e091d",
   "metadata": {},
   "outputs": [],
   "source": [
    "# Load the CIFAR100 dataset\n",
    "train_dataset = datasets.CIFAR100(\n",
    "    root='data',\n",
    "    train=True,\n",
    "    transform=train_transform,\n",
    "    download=True\n",
    ")\n",
    "\n",
    "test_dataset = datasets.CIFAR100(\n",
    "    root='data',\n",
    "    train=False,\n",
    "    transform=test_transform,\n",
    "    download=True\n",
    ")"
   ]
  },
  {
   "cell_type": "markdown",
   "id": "374ac8ad",
   "metadata": {},
   "source": [
    "# Define CNN model\n",
    "\n",
    "The CIFAR100 dataset is loaded using the \"datasets.CIFAR100 class\". \n",
    "\n",
    "The train_dataset is loaded with the training split, while the test_dataset is loaded with the testing split. \n",
    "\n",
    "The transform argument specifies the transformation pipeline to apply to the images, and download=True ensures that the dataset is downloaded if not present.\n",
    "\n",
    "hyperparameters for the training process are defined, including the batch size, learning rate, and the number of training epochs.\n",
    "\n",
    "A simple CNN model is defined using the nn.Module class as the base. The model consists of a single convolutional layer (conv1) followed by a ReLU activation (relu1) and max-pooling (pool). The output is flattened and passed through a fully connected layer (fc1). Finally, a log-softmax activation is applied to the output. An instance of this model is created as model.\n",
    "\n",
    "The loss function (criterion) is set to Cross-Entropy Loss, suitable for multiclass classification tasks. The optimizer (optimizer) is defined as Adam, which will update the model parameters based on computed gradients during training. We prefered Adam in this session because it appears to be faster while getting good results than others.\n",
    "\n",
    "\"DataLoader\" objects are created for both the training and testing datasets. \n",
    "These loaders provide an efficient way to iterate through the dataset in batches. \n",
    "The shuffle argument is set to True for the training loader to shuffle the data during each epoch."
   ]
  },
  {
   "cell_type": "code",
   "execution_count": null,
   "id": "738334c5",
   "metadata": {},
   "outputs": [],
   "source": [
    "# Set the model and training parameters\n",
    "batch_size = 64\n",
    "learning_rate = 0.001\n",
    "num_epochs = 30\n",
    "\n",
    "# Define CNN model\n",
    "class SimpleCNN(nn.Module):\n",
    "    def __init__(self):\n",
    "        super(SimpleCNN, self).__init__()\n",
    "        self.conv1 = nn.Conv2d(3, 32, kernel_size=3, padding=1)\n",
    "        self.relu1 = nn.ReLU()\n",
    "        self.pool = nn.MaxPool2d(kernel_size=2, stride=2)\n",
    "        self.fc1 = nn.Linear(16 * 16 * 32, 100)\n",
    "\n",
    "    def forward(self, x):\n",
    "        x = self.conv1(x)\n",
    "        x = self.relu1(x)\n",
    "        x = self.pool(x)\n",
    "        x = x.view(x.size(0), -1)\n",
    "        x = self.fc1(x)\n",
    "        x = F.log_softmax(x, dim=1)\n",
    "        return x\n",
    "\n",
    "# Instantiate the simple CNN model\n",
    "model = SimpleCNN()\n",
    "\n",
    "# Define the loss function and optimizer\n",
    "criterion = nn.CrossEntropyLoss()\n",
    "optimizer = optim.Adam(model.parameters(), lr=learning_rate)\n",
    "\n",
    "# Load the data using DataLoaders\n",
    "train_loader = DataLoader(train_dataset, batch_size=batch_size, shuffle=True)\n",
    "test_loader = DataLoader(test_dataset, batch_size=batch_size, shuffle=False)"
   ]
  },
  {
   "cell_type": "markdown",
   "id": "38461df3",
   "metadata": {},
   "source": [
    "# Define evaluate function\n",
    "\n",
    "The evaluate function calculates the loss and accuracy of the model on a given dataloader. It sets the model to evaluation mode using model.eval(), computes the loss, and accumulates the number of correctly predicted samples and the total number of samples. The function returns the average loss and accuracy.\n",
    "\n",
    "The train function handles the training loop. It sets the model to training mode using model.train(), computes the loss and gradients, updates the model parameters using the optimizer, and tracks loss and accuracy metrics.\n",
    "\n",
    "The model is trained using a loop that iterates over the specified number of epochs (num_epochs). In each epoch, the train function is called to train the model on the training data, and the evaluate function is used"
   ]
  },
  {
   "cell_type": "code",
   "execution_count": null,
   "id": "7708132c",
   "metadata": {},
   "outputs": [],
   "source": [
    "# Define the evaluation function\n",
    "def evaluate(model, dataloader, criterion):\n",
    "    model.eval()\n",
    "    total_loss = 0.0\n",
    "    correct = 0\n",
    "    total = 0\n",
    "\n",
    "    with torch.no_grad():\n",
    "        for inputs, labels in dataloader:\n",
    "            outputs = model(inputs)\n",
    "            loss = criterion(outputs, labels)\n",
    "\n",
    "            total_loss += loss.item()\n",
    "            _, predicted = outputs.max(1)\n",
    "            total += labels.size(0)\n",
    "            correct += predicted.eq(labels).sum().item()\n",
    "\n",
    "    accuracy = 100.0 * correct / total\n",
    "    avg_loss = total_loss / len(dataloader)\n",
    "    return avg_loss, accuracy\n",
    "\n",
    "# Define the training function\n",
    "def train(model, dataloader, criterion, optimizer):\n",
    "    model.train()\n",
    "    total_loss = 0.0\n",
    "    correct = 0\n",
    "    total = 0\n",
    "\n",
    "    for inputs, labels in dataloader:\n",
    "        optimizer.zero_grad()\n",
    "        outputs = model(inputs)\n",
    "        loss = criterion(outputs, labels)\n",
    "        loss.backward()\n",
    "        optimizer.step()\n",
    "\n",
    "        total_loss += loss.item()\n",
    "        _, predicted = outputs.max(1)\n",
    "        total += labels.size(0)\n",
    "        correct += predicted.eq(labels).sum().item()\n",
    "\n",
    "    accuracy = 100.0 * correct / total\n",
    "    avg_loss = total_loss / len(dataloader)\n",
    "    return avg_loss, accuracy\n",
    "\n",
    "# Train the model\n",
    "train_losses = []\n",
    "train_accuracies = []\n",
    "test_losses = []\n",
    "test_accuracies = []\n",
    "\n",
    "for epoch in range(num_epochs):\n",
    "    train_loss, train_accuracy = train(model, train_loader, criterion, optimizer)\n",
    "    test_loss, test_accuracy = evaluate(model, test_loader, criterion)\n",
    "\n",
    "    train_losses.append(train_loss)\n",
    "    train_accuracies.append(train_accuracy)\n",
    "    test_losses.append(test_loss)\n",
    "    test_accuracies.append(test_accuracy)\n",
    "\n",
    "    print(f'Epoch [{epoch+1}/{num_epochs}], Train Loss: {train_loss:.2f}, Train Accuracy: {train_accuracy:.2f}%, Test Loss: {test_loss:.2f}, Test Accuracy: {test_accuracy:.2f}%')\n",
    "\n"
   ]
  },
  {
   "cell_type": "markdown",
   "id": "3ecf3122",
   "metadata": {},
   "source": [
    "# Plotting results"
   ]
  },
  {
   "cell_type": "code",
   "execution_count": 2,
   "id": "6680d1cf",
   "metadata": {},
   "outputs": [
    {
     "name": "stdout",
     "output_type": "stream",
     "text": [
      "Files already downloaded and verified\n",
      "Files already downloaded and verified\n",
      "Epoch [1/30], Train Loss: 3.33, Train Accuracy: 23.01%, Test Loss: 2.97, Test Accuracy: 29.53%\n",
      "Epoch [2/30], Train Loss: 2.61, Train Accuracy: 36.80%, Test Loss: 2.82, Test Accuracy: 32.44%\n",
      "Epoch [3/30], Train Loss: 2.24, Train Accuracy: 44.55%, Test Loss: 2.78, Test Accuracy: 34.19%\n",
      "Epoch [4/30], Train Loss: 1.95, Train Accuracy: 50.86%, Test Loss: 2.79, Test Accuracy: 34.17%\n",
      "Epoch [5/30], Train Loss: 1.69, Train Accuracy: 56.84%, Test Loss: 2.89, Test Accuracy: 33.73%\n",
      "Epoch [6/30], Train Loss: 1.47, Train Accuracy: 61.84%, Test Loss: 2.93, Test Accuracy: 34.88%\n",
      "Epoch [7/30], Train Loss: 1.28, Train Accuracy: 66.79%, Test Loss: 3.03, Test Accuracy: 34.68%\n",
      "Epoch [8/30], Train Loss: 1.10, Train Accuracy: 71.26%, Test Loss: 3.14, Test Accuracy: 35.00%\n",
      "Epoch [9/30], Train Loss: 0.95, Train Accuracy: 75.49%, Test Loss: 3.28, Test Accuracy: 34.54%\n",
      "Epoch [10/30], Train Loss: 0.81, Train Accuracy: 78.76%, Test Loss: 3.47, Test Accuracy: 33.52%\n",
      "Epoch [11/30], Train Loss: 0.70, Train Accuracy: 82.18%, Test Loss: 3.65, Test Accuracy: 33.72%\n",
      "Epoch [12/30], Train Loss: 0.59, Train Accuracy: 85.09%, Test Loss: 3.76, Test Accuracy: 34.30%\n",
      "Epoch [13/30], Train Loss: 0.51, Train Accuracy: 87.43%, Test Loss: 3.94, Test Accuracy: 33.61%\n",
      "Epoch [14/30], Train Loss: 0.44, Train Accuracy: 89.29%, Test Loss: 4.15, Test Accuracy: 33.27%\n",
      "Epoch [15/30], Train Loss: 0.37, Train Accuracy: 90.82%, Test Loss: 4.32, Test Accuracy: 32.83%\n",
      "Epoch [16/30], Train Loss: 0.31, Train Accuracy: 92.59%, Test Loss: 4.56, Test Accuracy: 32.42%\n",
      "Epoch [17/30], Train Loss: 0.28, Train Accuracy: 93.47%, Test Loss: 4.80, Test Accuracy: 32.03%\n",
      "Epoch [18/30], Train Loss: 0.25, Train Accuracy: 94.23%, Test Loss: 4.89, Test Accuracy: 32.94%\n",
      "Epoch [19/30], Train Loss: 0.21, Train Accuracy: 95.07%, Test Loss: 5.10, Test Accuracy: 31.79%\n",
      "Epoch [20/30], Train Loss: 0.19, Train Accuracy: 95.51%, Test Loss: 5.29, Test Accuracy: 31.99%\n",
      "Epoch [21/30], Train Loss: 0.17, Train Accuracy: 96.02%, Test Loss: 5.47, Test Accuracy: 31.59%\n",
      "Epoch [22/30], Train Loss: 0.15, Train Accuracy: 96.49%, Test Loss: 5.57, Test Accuracy: 31.92%\n",
      "Epoch [23/30], Train Loss: 0.15, Train Accuracy: 96.63%, Test Loss: 5.85, Test Accuracy: 31.90%\n",
      "Epoch [24/30], Train Loss: 0.13, Train Accuracy: 97.12%, Test Loss: 5.81, Test Accuracy: 32.58%\n",
      "Epoch [25/30], Train Loss: 0.12, Train Accuracy: 97.38%, Test Loss: 5.96, Test Accuracy: 31.99%\n",
      "Epoch [26/30], Train Loss: 0.12, Train Accuracy: 97.18%, Test Loss: 6.16, Test Accuracy: 31.17%\n",
      "Epoch [27/30], Train Loss: 0.10, Train Accuracy: 97.70%, Test Loss: 6.24, Test Accuracy: 32.27%\n",
      "Epoch [28/30], Train Loss: 0.11, Train Accuracy: 97.36%, Test Loss: 6.43, Test Accuracy: 31.80%\n",
      "Epoch [29/30], Train Loss: 0.09, Train Accuracy: 97.91%, Test Loss: 6.48, Test Accuracy: 32.02%\n",
      "Epoch [30/30], Train Loss: 0.08, Train Accuracy: 98.26%, Test Loss: 6.66, Test Accuracy: 31.17%\n"
     ]
    },
    {
     "data": {
      "image/png": "[encoded data removed]",
      "text/plain": [
       "<Figure size 720x360 with 1 Axes>"
      ]
     },
     "metadata": {
      "needs_background": "light"
     },
     "output_type": "display_data"
    },
    {
     "data": {
      "image/png": "[encoded data removed]",
      "text/plain": [
       "<Figure size 720x360 with 1 Axes>"
      ]
     },
     "metadata": {
      "needs_background": "light"
     },
     "output_type": "display_data"
    }
   ],
   "source": [
    "\n",
    "\n",
    "# Plotting performance curves\n",
    "plt.figure(figsize=(10, 5))\n",
    "plt.plot(train_losses, label='Train Loss')\n",
    "plt.plot(test_losses, label='Test Loss')\n",
    "plt.xlabel('Epoch')\n",
    "plt.ylabel('Loss')\n",
    "plt.legend()\n",
    "plt.title('Training and Testing Loss')\n",
    "plt.show()\n",
    "\n",
    "plt.figure(figsize=(10, 5))\n",
    "plt.plot(train_accuracies, label='Train Accuracy')\n",
    "plt.plot(test_accuracies, label='Test Accuracy')\n",
    "plt.xlabel('Epoch')\n",
    "plt.ylabel('Accuracy (%)')\n",
    "plt.legend()\n",
    "plt.title('Training and Testing Accuracy')\n",
    "plt.show()\n"
   ]
  },
  {
   "cell_type": "markdown",
   "id": "68d9287b",
   "metadata": {},
   "source": [
    "# Result\n",
    "\n",
    "There is a significant difference between the model's performance on the training data and its performance on the test data. This gap suggests that the model is not capturing the true underlying relationships.\n",
    "This simple CNN is highly overfitted.\n",
    "\n",
    "Regularization techniques, such as dropout, weight decay, and batch normalization, should help to prevent overfitting by introducing penalties for complex model behavior.\n",
    "\n",
    "We will create a more complex CNN in the final model."
   ]
  },
  {
   "cell_type": "code",
   "execution_count": null,
   "id": "59794528",
   "metadata": {},
   "outputs": [],
   "source": []
  }
 ],
 "metadata": {
  "kernelspec": {
   "display_name": "Python 3.9 (pytorch)",
   "language": "python",
   "name": "pytorch"
  },
  "language_info": {
   "codemirror_mode": {
    "name": "ipython",
    "version": 3
   },
   "file_extension": ".py",
   "mimetype": "text/x-python",
   "name": "python",
   "nbconvert_exporter": "python",
   "pygments_lexer": "ipython3",
   "version": "3.9.7"
  }
 },
 "nbformat": 4,
 "nbformat_minor": 5
}
